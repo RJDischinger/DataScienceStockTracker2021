{
 "cells": [
  {
   "cell_type": "markdown",
   "metadata": {},
   "source": [
    "# US StockMarket Manipulation 2021\n"
   ]
  },
  {
   "cell_type": "markdown",
   "metadata": {},
   "source": [
    "## Robert Dischinger   codeLouisville   Python_Part_2: Spring 2021\n",
    "### Stock Market Data Analysis based on Stock Data Up to 2017\n",
    "#### The Goal of this Project is an attempt to determine a relationship between two unique stocks that have similar ticker symbols.\n",
    "### Train the Model to try to predict a pattern to the stock price in order to predict a future HIGH price."
   ]
  },
  {
   "cell_type": "code",
   "execution_count": null,
   "metadata": {},
   "outputs": [],
   "source": [
    "### Project Requirements:\n",
    "#    Research Question and Background: Can ypou predict the future value of a stock based on the performance history.\n",
    "#    Import Data:  Stock Market history for the Project Stocks   Ford Motor Company   and   Forward Industries\n",
    "#       This information came from :kaggle.com/datasets\n",
    "#                                  :https://www.kaggle.com/borismarjanovic/price-volume-data-for-all-us-stocks-etfs\n",
    "#    Cleaning Data:\n",
    "#    Data Visualization:  Show graphs\n",
    "#    A Model:  Attempt to Predict Future Stock Price Based on Historical Data\n",
    "#    Conclusion:  There is not enough evidence to assume that past performance will indicate future performance."
   ]
  },
  {
   "cell_type": "markdown",
   "metadata": {},
   "source": [
    "# Ford Motor Company (f)\n",
    "## About\n",
    "The Ford Motor Company, commonly known as Ford, is an American multinational automaker that has its main headquarters in Dearborn, Michigan, a suburb of Detroit. It was founded by Henry Ford and incorporated on June 16, 1903. The company sells automobiles and commercial vehicles under the Ford brand, and most luxury cars under the Lincoln brand. Ford also owns Brazilian SUV manufacturer Troller, an 8% stake in Aston Martin of the United Kingdom and a 32% stake in Jiangling Motors. It also has joint-ventures in China, Taiwan, Thailand, Turkey, and Russia. The company is listed on the New York Stock Exchange and is controlled by the Ford family; they have minority ownership but the majority of the voting power. Ford introduced methods for large-scale manufacturing of cars and large-scale management of an industrial workforce using elaborately engineered manufacturing sequences typified by moving assembly lines; by 1914, these methods were known around the world as Fordism. Ford's former UK subsidiaries Jaguar and Land Rover, acquired in 1989 and 2000 respectively, were sold to the Indian automaker Tata Motors in March 2008. Ford owned the Swedish automaker Volvo from 1999 to 2010.\n",
    "### www.ford.com\n"
   ]
  },
  {
   "cell_type": "markdown",
   "metadata": {},
   "source": [
    "# Forward Industries (ford)\n",
    "\n",
    "## About\n",
    "Forward Industries, Inc. operates as a technology distributor. The Company focuses on design, manufacturing, sourcing, and distribution of soft goods, smart products, and IoT technology solutions. Forward Industries serves clients worldwide.\n",
    "### www.forwardindustries.com"
   ]
  },
  {
   "cell_type": "code",
   "execution_count": null,
   "metadata": {
    "scrolled": true
   },
   "outputs": [],
   "source": [
    "import pandas as pd\n",
    "import numpy as np\n",
    "import os\n",
    "os.getcwd()\n",
    "df = pd.read_csv(r'C:\\Users\\rober\\Documents\\CodeLouisville\\PYTHON 2 Jan2021\\PROJECT Spring2021\\ProjectStocks\\f.us.txt',  header = None)\n",
    "\n",
    "# Date,Open,High,Low,Close,Volume,OpenInt\n",
    "df.columns = [\"DATE\", \"OPEN\", \"HIGH\", \"LOW\", \"CLOSE\", \"VOLUME\",\"OPEN_INT\"]\n",
    "print(df)\n"
   ]
  },
  {
   "cell_type": "code",
   "execution_count": null,
   "metadata": {},
   "outputs": [],
   "source": [
    "# Test print just the first rows of the dataframe.\n",
    "df.head()\n"
   ]
  },
  {
   "cell_type": "code",
   "execution_count": null,
   "metadata": {},
   "outputs": [],
   "source": [
    "#Copy the dataframe and rename to df_f which represents (Dataframe_FordMotorCo.)\n",
    "df_f = df \n",
    "df_f.head()"
   ]
  },
  {
   "cell_type": "code",
   "execution_count": null,
   "metadata": {},
   "outputs": [],
   "source": [
    "# Practice the replace command and change the DATE to a different format\n",
    "df_f = df_f.replace({'DATE' :\n",
    "{\"1977-01-03\": \"January 3rd, 1977\",}})\n",
    "df_f.head()"
   ]
  },
  {
   "cell_type": "code",
   "execution_count": null,
   "metadata": {},
   "outputs": [],
   "source": [
    "#More clean up that changes row 0 to use as a Header\n",
    "df_f = df_f.replace({'DATE' :\n",
    "{\"Date\": \"Year/MM/DD\"}})\n",
    "df_f = df_f.replace({'OPEN' :\n",
    "{\"Open\": \"Price__\"}})\n",
    "df_f = df_f.replace({'HIGH' :\n",
    "{\"High\": \"__in__\"}})\n",
    "df_f = df_f.replace({'LOW' :\n",
    "{\"Low\": \"__U.S.__\"}})\n",
    "df_f = df_f.replace({'CLOSE' :\n",
    "{\"Close\": \"_dollars\"}})\n",
    "df_f.head()"
   ]
  },
  {
   "cell_type": "code",
   "execution_count": null,
   "metadata": {},
   "outputs": [],
   "source": [
    "#Delete OPEN_INT column which is not needed\n",
    "df_f.drop(df_f.columns[[6]],axis=1, inplace=True)\n",
    "df_f.head() "
   ]
  },
  {
   "cell_type": "code",
   "execution_count": null,
   "metadata": {
    "scrolled": true
   },
   "outputs": [],
   "source": [
    "#Clean \"HIGH\" to read to two decimal values.\n",
    "df_f.round({'HIGH': 2})\n",
    "df_f.head() \n",
    "#This is not working???"
   ]
  },
  {
   "cell_type": "code",
   "execution_count": null,
   "metadata": {},
   "outputs": [],
   "source": [
    "%matplotlib notebook"
   ]
  },
  {
   "cell_type": "code",
   "execution_count": null,
   "metadata": {},
   "outputs": [],
   "source": [
    "import matplotlib as mpl \n",
    "mpl.get_backend()"
   ]
  },
  {
   "cell_type": "code",
   "execution_count": null,
   "metadata": {
    "scrolled": true
   },
   "outputs": [],
   "source": [
    "import matplotlib.pyplot as plt\n",
    "plt.plot"
   ]
  },
  {
   "cell_type": "code",
   "execution_count": null,
   "metadata": {
    "scrolled": true
   },
   "outputs": [],
   "source": [
    "#Check information about the current dataframe \n",
    "df_f.info()\n",
    "df_f.describe()"
   ]
  },
  {
   "cell_type": "code",
   "execution_count": null,
   "metadata": {},
   "outputs": [],
   "source": [
    "#null_counts for df_f\n",
    "len(df_f) - df_f['HIGH'].count()"
   ]
  },
  {
   "cell_type": "code",
   "execution_count": null,
   "metadata": {},
   "outputs": [],
   "source": [
    "len(df_f) - df_f['LOW'].count()"
   ]
  },
  {
   "cell_type": "code",
   "execution_count": null,
   "metadata": {},
   "outputs": [],
   "source": [
    "len(df_f) - df_f['VOLUME'].count()"
   ]
  },
  {
   "cell_type": "code",
   "execution_count": null,
   "metadata": {},
   "outputs": [],
   "source": [
    "from pandas import Series"
   ]
  },
  {
   "cell_type": "code",
   "execution_count": null,
   "metadata": {},
   "outputs": [],
   "source": [
    "df_f.head(10)"
   ]
  },
  {
   "cell_type": "code",
   "execution_count": null,
   "metadata": {},
   "outputs": [],
   "source": [
    "df_f.tail()"
   ]
  },
  {
   "cell_type": "code",
   "execution_count": null,
   "metadata": {},
   "outputs": [],
   "source": [
    "type(df_f)"
   ]
  },
  {
   "cell_type": "code",
   "execution_count": null,
   "metadata": {},
   "outputs": [],
   "source": [
    "df_f.size"
   ]
  },
  {
   "cell_type": "code",
   "execution_count": null,
   "metadata": {},
   "outputs": [],
   "source": [
    "#Split data into two variables (This step is not really necessary, but I was having issues running on VS Code)\n",
    "x=df_f['DATE']\n",
    "y=df_f['HIGH']"
   ]
  },
  {
   "cell_type": "code",
   "execution_count": null,
   "metadata": {},
   "outputs": [],
   "source": [
    "print(x)"
   ]
  },
  {
   "cell_type": "code",
   "execution_count": null,
   "metadata": {
    "scrolled": true
   },
   "outputs": [],
   "source": [
    "print(y)"
   ]
  },
  {
   "cell_type": "code",
   "execution_count": null,
   "metadata": {},
   "outputs": [],
   "source": [
    "colors = ['green'] * (len(x)-1)\n",
    "colors.append('red')\n",
    "\n",
    "plt.figure()\n",
    "plt.plot(x,y, \"*\")\n",
    "\n",
    "ax = plt.gca()\n",
    "plt.draw()\n",
    "ax.axis([1,300,1,300])\n",
    "\n",
    "plt.xlabel(\"Date\")\n",
    "plt.xticks(rotation = 45) \n",
    "\n",
    "plt.ylabel(\"Price in US Dollars\")\n",
    "\n",
    "plt.title('Ford Motor Company (F) Stock High values')\n",
    "\n",
    "plt.show()\n"
   ]
  },
  {
   "cell_type": "code",
   "execution_count": null,
   "metadata": {},
   "outputs": [],
   "source": [
    "plt.subplots_adjust(bottom=.25)\n",
    "plt.subplots_adjust(left=.15)"
   ]
  },
  {
   "cell_type": "code",
   "execution_count": null,
   "metadata": {},
   "outputs": [],
   "source": [
    "df_f.shape"
   ]
  },
  {
   "cell_type": "code",
   "execution_count": null,
   "metadata": {
    "scrolled": true
   },
   "outputs": [],
   "source": [
    "#x1977=df_f['DATE']   #only prices for 1977\n",
    "#reload stock data so that it can be divided by date ranges\n",
    "#   column 0 is used as an index.\n",
    "df_fdate = pd.read_csv(r'C:\\Users\\rober\\Documents\\CodeLouisville\\PYTHON 2 Jan2021\\PROJECT Spring2021\\ProjectStocks\\f.us.txt', parse_dates=True,index_col=0)\n",
    "plt.plot(df_fdate[\"High\"])\n",
    "plt.show"
   ]
  },
  {
   "cell_type": "code",
   "execution_count": null,
   "metadata": {},
   "outputs": [],
   "source": [
    "df_fdate.shape"
   ]
  },
  {
   "cell_type": "code",
   "execution_count": null,
   "metadata": {},
   "outputs": [],
   "source": [
    "df_f1977 = df_fdate[\"High\"][\"1977-01-03\":\"1977-12-31\"]\n",
    "#df_f1977.plot()\n",
    "plt.figure(figsize=(16,8))\n",
    "plt.title('Ford Motor Co')\n",
    "plt.xlabel('Days of 1977')\n",
    "plt.ylabel('High Price USD ($)')\n",
    "plt.plot(df_f1977) \n",
    "plt.show()"
   ]
  },
  {
   "cell_type": "code",
   "execution_count": null,
   "metadata": {},
   "outputs": [],
   "source": [
    "#Plot the same information in a Histogram in order to visualize the price changes during 1977\n",
    "#df_f1977 = df_fdate[\"High\"][\"1977-01-03\":\"1977-12-31\"]\n",
    "#df_f1977.plot()\n",
    "plt.figure(figsize=(8,4))\n",
    "plt.title('Ford Motor Co')\n",
    "plt.xlabel('High Price USD ($)')\n",
    "plt.ylabel('Number of Days at this Price Level')\n",
    "plt.hist(df_f1977) \n",
    "plt.show()"
   ]
  },
  {
   "cell_type": "code",
   "execution_count": null,
   "metadata": {
    "scrolled": true
   },
   "outputs": [],
   "source": [
    "df_f1977.shape"
   ]
  },
  {
   "cell_type": "code",
   "execution_count": null,
   "metadata": {
    "scrolled": true
   },
   "outputs": [],
   "source": [
    "df_f1978 = df_fdate[\"High\"][\"1978-01-01\":\"1978-12-31\"]\n",
    "#df_f1978.plot()\n",
    "plt.figure(figsize=(16,8))\n",
    "plt.title('Ford Motor Co')\n",
    "plt.xlabel('Months of 1978')\n",
    "plt.ylabel('High Price USD ($)')\n",
    "plt.plot(df_f1978) \n",
    "plt.show()"
   ]
  },
  {
   "cell_type": "code",
   "execution_count": null,
   "metadata": {},
   "outputs": [],
   "source": [
    "df_f2017 = df_fdate[\"High\"][\"2017-01-01\":\"2017-12-31\"]\n",
    "\n",
    "plt.figure(figsize=(16,8))\n",
    "plt.title('Ford Motor Co')\n",
    "plt.xlabel('Months of 2017')\n",
    "plt.ylabel('High Price USD ($)')\n",
    "plt.plot(df_f2017) \n",
    "plt.show()"
   ]
  },
  {
   "cell_type": "code",
   "execution_count": null,
   "metadata": {
    "scrolled": true
   },
   "outputs": [],
   "source": [
    "df_f2000_17 = df_fdate[\"High\"][\"2000-01-01\":\"2017-12-31\"]\n",
    "\n",
    "plt.figure(figsize=(16,8))\n",
    "plt.title('Ford Motor Co')\n",
    "plt.xlabel('2000 thru 2017')\n",
    "plt.ylabel('High Price USD ($)')\n",
    "plt.plot(df_f2000_17) \n",
    "plt.show()"
   ]
  },
  {
   "cell_type": "code",
   "execution_count": null,
   "metadata": {},
   "outputs": [],
   "source": [
    "#Use machine learning to predict future price fluctuation\n",
    "from sklearn.model_selection import train_test_split\n",
    "from sklearn.tree import DecisionTreeClassifier\n"
   ]
  },
  {
   "cell_type": "code",
   "execution_count": null,
   "metadata": {
    "scrolled": true
   },
   "outputs": [],
   "source": [
    "#Use Dataframe for \"High\" values of stock between year 2000 and year 2017\n",
    "df_f2000_17"
   ]
  },
  {
   "cell_type": "code",
   "execution_count": null,
   "metadata": {},
   "outputs": [],
   "source": [
    "df_f.head(10)"
   ]
  },
  {
   "cell_type": "code",
   "execution_count": null,
   "metadata": {
    "scrolled": true
   },
   "outputs": [],
   "source": [
    "#Change the index to be the DATE\n",
    "df_f = df_f.set_index((df_f['DATE'].values))\n",
    "df_f"
   ]
  },
  {
   "cell_type": "code",
   "execution_count": null,
   "metadata": {
    "scrolled": true
   },
   "outputs": [],
   "source": [
    "#Add a name for the index (DATE)\n",
    "df_f.index.name = 'DATE'\n",
    "df_f.head()"
   ]
  },
  {
   "cell_type": "code",
   "execution_count": null,
   "metadata": {},
   "outputs": [],
   "source": [
    "#Drop the \"DATE\" column that is no longer needed\n",
    "df_f = df_f.drop(columns=['DATE'])\n",
    "df_f.head(10)"
   ]
  },
  {
   "cell_type": "code",
   "execution_count": null,
   "metadata": {
    "scrolled": false
   },
   "outputs": [],
   "source": [
    "#drop row one that is causing errors\n",
    "df_f = df_f.drop('Year/MM/DD', axis=0)\n",
    "df_f.head(10)"
   ]
  },
  {
   "cell_type": "markdown",
   "metadata": {},
   "source": [
    "### MODELING :  Attempt to Predict Future Stock Price Based on Historical Data"
   ]
  },
  {
   "cell_type": "code",
   "execution_count": null,
   "metadata": {
    "scrolled": true
   },
   "outputs": [],
   "source": [
    "# Create a Target Column to show predicted High Price based on Historical Data.\n",
    "\n",
    "df_f['Price_Increase'] = np.where(df_f['HIGH'].shift(-1) > df_f['HIGH'],1,0)\n",
    "df_f"
   ]
  },
  {
   "cell_type": "code",
   "execution_count": null,
   "metadata": {},
   "outputs": [],
   "source": [
    "#Split the Data Set into a feature and a target data set\n",
    "feature = df_f.iloc[:,0:df_f.shape[1]-1].values\n",
    "target = df_f.iloc[:,df_f.shape[1]-1].values"
   ]
  },
  {
   "cell_type": "code",
   "execution_count": null,
   "metadata": {},
   "outputs": [],
   "source": [
    "#Split the data into 80% training data and 20% test data\n",
    "feature_train, feature_test, target_train, target_test = train_test_split(feature, target, test_size = 0.2)"
   ]
  },
  {
   "cell_type": "code",
   "execution_count": null,
   "metadata": {},
   "outputs": [],
   "source": [
    "#Create and train the model (DecisionTreeClassifier)\n",
    "tree = DecisionTreeClassifier().fit(feature_train, target_train)\n",
    "\n",
    "print(tree.score(feature_test, target_test))"
   ]
  },
  {
   "cell_type": "code",
   "execution_count": null,
   "metadata": {},
   "outputs": [],
   "source": [
    "#Show the model's prediction\n",
    "tree_prediction = tree.predict(feature_test)\n",
    "print(tree_prediction)"
   ]
  },
  {
   "cell_type": "code",
   "execution_count": null,
   "metadata": {},
   "outputs": [],
   "source": [
    "tree_prediction01 = tree_prediction\n",
    "print(tree_prediction01)"
   ]
  },
  {
   "cell_type": "code",
   "execution_count": null,
   "metadata": {},
   "outputs": [],
   "source": [
    "#Show the actual Values\n",
    "target_test"
   ]
  },
  {
   "cell_type": "code",
   "execution_count": null,
   "metadata": {},
   "outputs": [],
   "source": [
    "target_test01 = target_test\n",
    "print(target_test01)"
   ]
  },
  {
   "cell_type": "markdown",
   "metadata": {},
   "source": [
    "### Compare the feature_test verses the target_test"
   ]
  },
  {
   "cell_type": "code",
   "execution_count": null,
   "metadata": {},
   "outputs": [],
   "source": [
    "#output is used to show which predictions did not match the test\n",
    "output01 = (tree_prediction01 -target_test01)\n",
    "print(output01)"
   ]
  },
  {
   "cell_type": "code",
   "execution_count": null,
   "metadata": {},
   "outputs": [],
   "source": [
    "#Count the instances that are not equal to ZERO (0)\n",
    "np.count_nonzero(output01)"
   ]
  },
  {
   "cell_type": "markdown",
   "metadata": {},
   "source": [
    "### Check to see if there is a significantly different result if we change to feature/target ratio"
   ]
  },
  {
   "cell_type": "code",
   "execution_count": null,
   "metadata": {},
   "outputs": [],
   "source": [
    "#Split the Data Set into a feature02 and a target02 data set\n",
    "feature02 = df_f.iloc[:,0:df_f.shape[1]-1].values\n",
    "target02 = df_f.iloc[:,df_f.shape[1]-1].values"
   ]
  },
  {
   "cell_type": "code",
   "execution_count": null,
   "metadata": {},
   "outputs": [],
   "source": [
    "#Split the data into 90% training data and 10% test data to see if results change\n",
    "feature_train02, feature_test02, target_train02, target_test02 = train_test_split(feature02, target02, test_size = 0.1)"
   ]
  },
  {
   "cell_type": "code",
   "execution_count": null,
   "metadata": {},
   "outputs": [],
   "source": [
    "#Create and train the model (DecisionTreeClassifier)\n",
    "tree02 = DecisionTreeClassifier().fit(feature_train02, target_train02)\n",
    "\n",
    "print(tree.score(feature_test02, target_test02))"
   ]
  },
  {
   "cell_type": "code",
   "execution_count": null,
   "metadata": {},
   "outputs": [],
   "source": [
    "#Show the model's prediction\n",
    "tree_prediction02 = tree.predict(feature_test02)\n",
    "print(tree_prediction02)"
   ]
  },
  {
   "cell_type": "code",
   "execution_count": null,
   "metadata": {},
   "outputs": [],
   "source": [
    "#Show the actual Values\n",
    "target_test02"
   ]
  },
  {
   "cell_type": "code",
   "execution_count": null,
   "metadata": {},
   "outputs": [],
   "source": [
    "target_test02 = target_test\n",
    "print(target_test02)"
   ]
  },
  {
   "cell_type": "code",
   "execution_count": null,
   "metadata": {},
   "outputs": [],
   "source": [
    "output02 = (tree_prediction02 -target_test02)\n",
    "print(output02)"
   ]
  },
  {
   "cell_type": "code",
   "execution_count": null,
   "metadata": {},
   "outputs": [],
   "source": [
    "#Count the instances that are not equal to ZERO (0)\n",
    "np.count_nonzero(output02)"
   ]
  },
  {
   "cell_type": "markdown",
   "metadata": {},
   "source": [
    "# Create a dataframe for FORWARD INDUSTRIES INC. (ford)"
   ]
  },
  {
   "cell_type": "code",
   "execution_count": null,
   "metadata": {},
   "outputs": [],
   "source": [
    "# Import a dataframe for Forward Industries\n",
    "df_ford = pd.read_csv(r'C:\\Users\\rober\\Documents\\CodeLouisville\\PYTHON 2 Jan2021\\PROJECT Spring2021\\ProjectStocks\\ford.us.txt',  header = None)\n",
    "df_ford.head(10)"
   ]
  },
  {
   "cell_type": "code",
   "execution_count": null,
   "metadata": {},
   "outputs": [],
   "source": [
    "#review Forward Industries information\n",
    "#Compare \"HIGH\" price history to Ford Motor Company\n"
   ]
  },
  {
   "cell_type": "code",
   "execution_count": null,
   "metadata": {},
   "outputs": [],
   "source": []
  }
 ],
 "metadata": {
  "kernelspec": {
   "display_name": "Python 3",
   "language": "python",
   "name": "python3"
  },
  "language_info": {
   "codemirror_mode": {
    "name": "ipython",
    "version": 3
   },
   "file_extension": ".py",
   "mimetype": "text/x-python",
   "name": "python",
   "nbconvert_exporter": "python",
   "pygments_lexer": "ipython3",
   "version": "3.8.5"
  }
 },
 "nbformat": 4,
 "nbformat_minor": 2
}
